{
 "cells": [
  {
   "cell_type": "markdown",
   "id": "6f7c0409",
   "metadata": {},
   "source": [
    "# EDA Questions"
   ]
  },
  {
   "cell_type": "code",
   "execution_count": 1,
   "id": "c8b8fcf2",
   "metadata": {
    "ExecuteTime": {
     "end_time": "2022-10-26T21:09:49.706836Z",
     "start_time": "2022-10-26T21:09:49.352499Z"
    }
   },
   "outputs": [],
   "source": [
    "import pandas as pd"
   ]
  },
  {
   "cell_type": "code",
   "execution_count": 2,
   "id": "6750b29e",
   "metadata": {
    "ExecuteTime": {
     "end_time": "2022-10-26T21:09:49.786242Z",
     "start_time": "2022-10-26T21:09:49.706836Z"
    }
   },
   "outputs": [
    {
     "data": {
      "text/html": [
       "<div>\n",
       "<style scoped>\n",
       "    .dataframe tbody tr th:only-of-type {\n",
       "        vertical-align: middle;\n",
       "    }\n",
       "\n",
       "    .dataframe tbody tr th {\n",
       "        vertical-align: top;\n",
       "    }\n",
       "\n",
       "    .dataframe thead th {\n",
       "        text-align: right;\n",
       "    }\n",
       "</style>\n",
       "<table border=\"1\" class=\"dataframe\">\n",
       "  <thead>\n",
       "    <tr style=\"text-align: right;\">\n",
       "      <th></th>\n",
       "      <th>adult</th>\n",
       "      <th>backdrop_path</th>\n",
       "      <th>belongs_to_collection</th>\n",
       "      <th>budget</th>\n",
       "      <th>genres</th>\n",
       "      <th>homepage</th>\n",
       "      <th>id</th>\n",
       "      <th>imdb_id</th>\n",
       "      <th>original_language</th>\n",
       "      <th>original_title</th>\n",
       "      <th>...</th>\n",
       "      <th>revenue</th>\n",
       "      <th>runtime</th>\n",
       "      <th>spoken_languages</th>\n",
       "      <th>status</th>\n",
       "      <th>tagline</th>\n",
       "      <th>title</th>\n",
       "      <th>video</th>\n",
       "      <th>vote_average</th>\n",
       "      <th>vote_count</th>\n",
       "      <th>certification</th>\n",
       "    </tr>\n",
       "  </thead>\n",
       "  <tbody>\n",
       "    <tr>\n",
       "      <th>0</th>\n",
       "      <td>False</td>\n",
       "      <td>/vMFs7nw6P0bIV1jDsQpxAieAVnH.jpg</td>\n",
       "      <td>NaN</td>\n",
       "      <td>10000000</td>\n",
       "      <td>[{'id': 35, 'name': 'Comedy'}, {'id': 10402, '...</td>\n",
       "      <td>NaN</td>\n",
       "      <td>62127</td>\n",
       "      <td>tt0113026</td>\n",
       "      <td>en</td>\n",
       "      <td>The Fantasticks</td>\n",
       "      <td>...</td>\n",
       "      <td>0</td>\n",
       "      <td>86</td>\n",
       "      <td>[{'english_name': 'English', 'iso_639_1': 'en'...</td>\n",
       "      <td>Released</td>\n",
       "      <td>Try to remember the first time magic happened</td>\n",
       "      <td>The Fantasticks</td>\n",
       "      <td>False</td>\n",
       "      <td>5.500</td>\n",
       "      <td>22</td>\n",
       "      <td>NaN</td>\n",
       "    </tr>\n",
       "    <tr>\n",
       "      <th>1</th>\n",
       "      <td>False</td>\n",
       "      <td>NaN</td>\n",
       "      <td>NaN</td>\n",
       "      <td>0</td>\n",
       "      <td>[{'id': 878, 'name': 'Science Fiction'}]</td>\n",
       "      <td>NaN</td>\n",
       "      <td>110977</td>\n",
       "      <td>tt0113092</td>\n",
       "      <td>en</td>\n",
       "      <td>For the Cause</td>\n",
       "      <td>...</td>\n",
       "      <td>0</td>\n",
       "      <td>100</td>\n",
       "      <td>[{'english_name': 'English', 'iso_639_1': 'en'...</td>\n",
       "      <td>Released</td>\n",
       "      <td>The ultimate showdown on a forbidden planet.</td>\n",
       "      <td>For the Cause</td>\n",
       "      <td>False</td>\n",
       "      <td>5.100</td>\n",
       "      <td>8</td>\n",
       "      <td>NaN</td>\n",
       "    </tr>\n",
       "    <tr>\n",
       "      <th>2</th>\n",
       "      <td>False</td>\n",
       "      <td>NaN</td>\n",
       "      <td>NaN</td>\n",
       "      <td>0</td>\n",
       "      <td>[{'id': 18, 'name': 'Drama'}, {'id': 28, 'name...</td>\n",
       "      <td>NaN</td>\n",
       "      <td>442869</td>\n",
       "      <td>tt0116391</td>\n",
       "      <td>hi</td>\n",
       "      <td>Gang</td>\n",
       "      <td>...</td>\n",
       "      <td>0</td>\n",
       "      <td>152</td>\n",
       "      <td>[{'english_name': 'Hindi', 'iso_639_1': 'hi', ...</td>\n",
       "      <td>Released</td>\n",
       "      <td>NaN</td>\n",
       "      <td>Gang</td>\n",
       "      <td>False</td>\n",
       "      <td>4.000</td>\n",
       "      <td>1</td>\n",
       "      <td>NaN</td>\n",
       "    </tr>\n",
       "    <tr>\n",
       "      <th>3</th>\n",
       "      <td>False</td>\n",
       "      <td>/n4GJFGzsc7NinI1VeGDXIcQjtU2.jpg</td>\n",
       "      <td>NaN</td>\n",
       "      <td>150000</td>\n",
       "      <td>[{'id': 18, 'name': 'Drama'}, {'id': 10749, 'n...</td>\n",
       "      <td>http://www.wkw-inthemoodforlove.com/</td>\n",
       "      <td>843</td>\n",
       "      <td>tt0118694</td>\n",
       "      <td>cn</td>\n",
       "      <td>花樣年華</td>\n",
       "      <td>...</td>\n",
       "      <td>12854953</td>\n",
       "      <td>99</td>\n",
       "      <td>[{'english_name': 'Cantonese', 'iso_639_1': 'c...</td>\n",
       "      <td>Released</td>\n",
       "      <td>Feel the heat, keep the feeling burning, let t...</td>\n",
       "      <td>In the Mood for Love</td>\n",
       "      <td>False</td>\n",
       "      <td>8.113</td>\n",
       "      <td>2012</td>\n",
       "      <td>PG</td>\n",
       "    </tr>\n",
       "    <tr>\n",
       "      <th>4</th>\n",
       "      <td>False</td>\n",
       "      <td>NaN</td>\n",
       "      <td>NaN</td>\n",
       "      <td>0</td>\n",
       "      <td>[{'id': 18, 'name': 'Drama'}]</td>\n",
       "      <td>NaN</td>\n",
       "      <td>49511</td>\n",
       "      <td>tt0118852</td>\n",
       "      <td>en</td>\n",
       "      <td>Chinese Coffee</td>\n",
       "      <td>...</td>\n",
       "      <td>0</td>\n",
       "      <td>99</td>\n",
       "      <td>[{'english_name': 'English', 'iso_639_1': 'en'...</td>\n",
       "      <td>Released</td>\n",
       "      <td>There's a fine line between friendship and bet...</td>\n",
       "      <td>Chinese Coffee</td>\n",
       "      <td>False</td>\n",
       "      <td>6.900</td>\n",
       "      <td>47</td>\n",
       "      <td>R</td>\n",
       "    </tr>\n",
       "  </tbody>\n",
       "</table>\n",
       "<p>5 rows × 26 columns</p>\n",
       "</div>"
      ],
      "text/plain": [
       "   adult                     backdrop_path belongs_to_collection    budget  \\\n",
       "0  False  /vMFs7nw6P0bIV1jDsQpxAieAVnH.jpg                   NaN  10000000   \n",
       "1  False                               NaN                   NaN         0   \n",
       "2  False                               NaN                   NaN         0   \n",
       "3  False  /n4GJFGzsc7NinI1VeGDXIcQjtU2.jpg                   NaN    150000   \n",
       "4  False                               NaN                   NaN         0   \n",
       "\n",
       "                                              genres  \\\n",
       "0  [{'id': 35, 'name': 'Comedy'}, {'id': 10402, '...   \n",
       "1           [{'id': 878, 'name': 'Science Fiction'}]   \n",
       "2  [{'id': 18, 'name': 'Drama'}, {'id': 28, 'name...   \n",
       "3  [{'id': 18, 'name': 'Drama'}, {'id': 10749, 'n...   \n",
       "4                      [{'id': 18, 'name': 'Drama'}]   \n",
       "\n",
       "                               homepage      id    imdb_id original_language  \\\n",
       "0                                   NaN   62127  tt0113026                en   \n",
       "1                                   NaN  110977  tt0113092                en   \n",
       "2                                   NaN  442869  tt0116391                hi   \n",
       "3  http://www.wkw-inthemoodforlove.com/     843  tt0118694                cn   \n",
       "4                                   NaN   49511  tt0118852                en   \n",
       "\n",
       "    original_title  ...   revenue  runtime  \\\n",
       "0  The Fantasticks  ...         0       86   \n",
       "1    For the Cause  ...         0      100   \n",
       "2             Gang  ...         0      152   \n",
       "3             花樣年華  ...  12854953       99   \n",
       "4   Chinese Coffee  ...         0       99   \n",
       "\n",
       "                                    spoken_languages    status  \\\n",
       "0  [{'english_name': 'English', 'iso_639_1': 'en'...  Released   \n",
       "1  [{'english_name': 'English', 'iso_639_1': 'en'...  Released   \n",
       "2  [{'english_name': 'Hindi', 'iso_639_1': 'hi', ...  Released   \n",
       "3  [{'english_name': 'Cantonese', 'iso_639_1': 'c...  Released   \n",
       "4  [{'english_name': 'English', 'iso_639_1': 'en'...  Released   \n",
       "\n",
       "                                             tagline                 title  \\\n",
       "0      Try to remember the first time magic happened       The Fantasticks   \n",
       "1       The ultimate showdown on a forbidden planet.         For the Cause   \n",
       "2                                                NaN                  Gang   \n",
       "3  Feel the heat, keep the feeling burning, let t...  In the Mood for Love   \n",
       "4  There's a fine line between friendship and bet...        Chinese Coffee   \n",
       "\n",
       "   video  vote_average vote_count certification  \n",
       "0  False         5.500         22           NaN  \n",
       "1  False         5.100          8           NaN  \n",
       "2  False         4.000          1           NaN  \n",
       "3  False         8.113       2012            PG  \n",
       "4  False         6.900         47             R  \n",
       "\n",
       "[5 rows x 26 columns]"
      ]
     },
     "execution_count": 2,
     "metadata": {},
     "output_type": "execute_result"
    }
   ],
   "source": [
    "years_movies = pd.read_csv('Data/tmdb_results_combined.csv.gz')\n",
    "years_movies.head()"
   ]
  },
  {
   "cell_type": "markdown",
   "id": "ec026113",
   "metadata": {},
   "source": [
    "### How many movies have SOME financial information?"
   ]
  },
  {
   "cell_type": "code",
   "execution_count": 3,
   "id": "7b8d7ec1",
   "metadata": {
    "ExecuteTime": {
     "end_time": "2022-10-26T21:09:49.802164Z",
     "start_time": "2022-10-26T21:09:49.787270Z"
    }
   },
   "outputs": [
    {
     "name": "stdout",
     "output_type": "stream",
     "text": [
      "623 movies have financial information\n"
     ]
    }
   ],
   "source": [
    "financial = (years_movies['budget'] > 0) | (years_movies['revenue'] > 0)\n",
    "print(f'{len(years_movies[financial])} movies have financial information')"
   ]
  },
  {
   "cell_type": "markdown",
   "id": "bfbea418",
   "metadata": {},
   "source": [
    "### How many movies are in each certification category?"
   ]
  },
  {
   "cell_type": "code",
   "execution_count": 4,
   "id": "bc6529fc",
   "metadata": {
    "ExecuteTime": {
     "end_time": "2022-10-26T21:09:49.817338Z",
     "start_time": "2022-10-26T21:09:49.804158Z"
    }
   },
   "outputs": [
    {
     "name": "stdout",
     "output_type": "stream",
     "text": [
      "The number of movies in each certification category are:\n"
     ]
    },
    {
     "data": {
      "text/plain": [
       "R          453\n",
       "PG-13      180\n",
       "NR          67\n",
       "PG          64\n",
       "G           24\n",
       "NC-17        6\n",
       "Unrated      1\n",
       "-            1\n",
       "Name: certification, dtype: int64"
      ]
     },
     "execution_count": 4,
     "metadata": {},
     "output_type": "execute_result"
    }
   ],
   "source": [
    "print(f'The number of movies in each certification category are:')\n",
    "years_movies[\"certification\"].value_counts()"
   ]
  },
  {
   "cell_type": "markdown",
   "id": "c944e36c",
   "metadata": {},
   "source": [
    "### What is the average revenue per certification category"
   ]
  },
  {
   "cell_type": "code",
   "execution_count": 5,
   "id": "02877ac3",
   "metadata": {
    "ExecuteTime": {
     "end_time": "2022-10-26T21:09:49.832975Z",
     "start_time": "2022-10-26T21:09:49.818328Z"
    }
   },
   "outputs": [
    {
     "name": "stdout",
     "output_type": "stream",
     "text": [
      "The average revenue for each certification category is:\n"
     ]
    },
    {
     "data": {
      "text/plain": [
       "certification\n",
       "-          0.000000e+00\n",
       "G          7.216332e+07\n",
       "NC-17      0.000000e+00\n",
       "NR         2.255067e+06\n",
       "PG         6.143535e+07\n",
       "PG-13      7.186567e+07\n",
       "R          1.678400e+07\n",
       "Unrated    0.000000e+00\n",
       "Name: revenue, dtype: float64"
      ]
     },
     "execution_count": 5,
     "metadata": {},
     "output_type": "execute_result"
    }
   ],
   "source": [
    "cert_groups = years_movies.groupby('certification').mean()['revenue']\n",
    "print('The average revenue for each certification category is:')\n",
    "cert_groups"
   ]
  },
  {
   "cell_type": "markdown",
   "id": "4adf49bb",
   "metadata": {},
   "source": [
    "### What is the average budget by certification category"
   ]
  },
  {
   "cell_type": "code",
   "execution_count": 6,
   "id": "1166fd27",
   "metadata": {
    "ExecuteTime": {
     "end_time": "2022-10-26T21:09:49.848936Z",
     "start_time": "2022-10-26T21:09:49.834000Z"
    }
   },
   "outputs": [
    {
     "name": "stdout",
     "output_type": "stream",
     "text": [
      "The average budget for each certification category is:\n"
     ]
    },
    {
     "data": {
      "text/plain": [
       "certification\n",
       "-          0.000000e+00\n",
       "G          2.383333e+07\n",
       "NC-17      0.000000e+00\n",
       "NR         1.598509e+06\n",
       "PG         2.459766e+07\n",
       "PG-13      3.098838e+07\n",
       "R          9.976831e+06\n",
       "Unrated    0.000000e+00\n",
       "Name: budget, dtype: float64"
      ]
     },
     "execution_count": 6,
     "metadata": {},
     "output_type": "execute_result"
    }
   ],
   "source": [
    "cert_groups = years_movies.groupby('certification').mean()['budget']\n",
    "print('The average budget for each certification category is:')\n",
    "cert_groups"
   ]
  },
  {
   "cell_type": "code",
   "execution_count": null,
   "id": "921d4ceb",
   "metadata": {},
   "outputs": [],
   "source": []
  }
 ],
 "metadata": {
  "kernelspec": {
   "display_name": "Python (dojo-env)",
   "language": "python",
   "name": "dojo-env"
  },
  "language_info": {
   "codemirror_mode": {
    "name": "ipython",
    "version": 3
   },
   "file_extension": ".py",
   "mimetype": "text/x-python",
   "name": "python",
   "nbconvert_exporter": "python",
   "pygments_lexer": "ipython3",
   "version": "3.8.13"
  },
  "toc": {
   "base_numbering": 1,
   "nav_menu": {},
   "number_sections": true,
   "sideBar": true,
   "skip_h1_title": false,
   "title_cell": "Table of Contents",
   "title_sidebar": "Contents",
   "toc_cell": false,
   "toc_position": {},
   "toc_section_display": true,
   "toc_window_display": false
  }
 },
 "nbformat": 4,
 "nbformat_minor": 5
}
