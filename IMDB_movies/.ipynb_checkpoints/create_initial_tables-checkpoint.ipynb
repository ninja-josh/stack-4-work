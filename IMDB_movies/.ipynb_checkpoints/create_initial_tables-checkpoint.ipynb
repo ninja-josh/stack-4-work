{
 "cells": [
  {
   "cell_type": "code",
   "execution_count": 2,
   "id": "722878dd",
   "metadata": {
    "ExecuteTime": {
     "end_time": "2022-10-26T17:33:42.043348Z",
     "start_time": "2022-10-26T17:33:41.681437Z"
    }
   },
   "outputs": [],
   "source": [
    "import pandas as pd\n",
    "import numpy as np"
   ]
  },
  {
   "cell_type": "code",
   "execution_count": 2,
   "id": "4eda6b97",
   "metadata": {
    "ExecuteTime": {
     "end_time": "2022-09-20T17:30:14.430277Z",
     "start_time": "2022-09-20T17:28:58.229509Z"
    },
    "scrolled": true
   },
   "outputs": [
    {
     "data": {
      "text/html": [
       "<div>\n",
       "<style scoped>\n",
       "    .dataframe tbody tr th:only-of-type {\n",
       "        vertical-align: middle;\n",
       "    }\n",
       "\n",
       "    .dataframe tbody tr th {\n",
       "        vertical-align: top;\n",
       "    }\n",
       "\n",
       "    .dataframe thead th {\n",
       "        text-align: right;\n",
       "    }\n",
       "</style>\n",
       "<table border=\"1\" class=\"dataframe\">\n",
       "  <thead>\n",
       "    <tr style=\"text-align: right;\">\n",
       "      <th></th>\n",
       "      <th>titleId</th>\n",
       "      <th>ordering</th>\n",
       "      <th>title</th>\n",
       "      <th>region</th>\n",
       "      <th>language</th>\n",
       "      <th>types</th>\n",
       "      <th>attributes</th>\n",
       "      <th>isOriginalTitle</th>\n",
       "    </tr>\n",
       "  </thead>\n",
       "  <tbody>\n",
       "    <tr>\n",
       "      <th>0</th>\n",
       "      <td>tt0000001</td>\n",
       "      <td>1</td>\n",
       "      <td>Карменсіта</td>\n",
       "      <td>UA</td>\n",
       "      <td>\\N</td>\n",
       "      <td>imdbDisplay</td>\n",
       "      <td>\\N</td>\n",
       "      <td>0</td>\n",
       "    </tr>\n",
       "    <tr>\n",
       "      <th>1</th>\n",
       "      <td>tt0000001</td>\n",
       "      <td>2</td>\n",
       "      <td>Carmencita</td>\n",
       "      <td>DE</td>\n",
       "      <td>\\N</td>\n",
       "      <td>\\N</td>\n",
       "      <td>literal title</td>\n",
       "      <td>0</td>\n",
       "    </tr>\n",
       "    <tr>\n",
       "      <th>2</th>\n",
       "      <td>tt0000001</td>\n",
       "      <td>3</td>\n",
       "      <td>Carmencita - spanyol tánc</td>\n",
       "      <td>HU</td>\n",
       "      <td>\\N</td>\n",
       "      <td>imdbDisplay</td>\n",
       "      <td>\\N</td>\n",
       "      <td>0</td>\n",
       "    </tr>\n",
       "    <tr>\n",
       "      <th>3</th>\n",
       "      <td>tt0000001</td>\n",
       "      <td>4</td>\n",
       "      <td>Καρμενσίτα</td>\n",
       "      <td>GR</td>\n",
       "      <td>\\N</td>\n",
       "      <td>imdbDisplay</td>\n",
       "      <td>\\N</td>\n",
       "      <td>0</td>\n",
       "    </tr>\n",
       "    <tr>\n",
       "      <th>4</th>\n",
       "      <td>tt0000001</td>\n",
       "      <td>5</td>\n",
       "      <td>Карменсита</td>\n",
       "      <td>RU</td>\n",
       "      <td>\\N</td>\n",
       "      <td>imdbDisplay</td>\n",
       "      <td>\\N</td>\n",
       "      <td>0</td>\n",
       "    </tr>\n",
       "  </tbody>\n",
       "</table>\n",
       "</div>"
      ],
      "text/plain": [
       "     titleId  ordering                      title region language  \\\n",
       "0  tt0000001         1                 Карменсіта     UA       \\N   \n",
       "1  tt0000001         2                 Carmencita     DE       \\N   \n",
       "2  tt0000001         3  Carmencita - spanyol tánc     HU       \\N   \n",
       "3  tt0000001         4                 Καρμενσίτα     GR       \\N   \n",
       "4  tt0000001         5                 Карменсита     RU       \\N   \n",
       "\n",
       "         types     attributes isOriginalTitle  \n",
       "0  imdbDisplay             \\N               0  \n",
       "1           \\N  literal title               0  \n",
       "2  imdbDisplay             \\N               0  \n",
       "3  imdbDisplay             \\N               0  \n",
       "4  imdbDisplay             \\N               0  "
      ]
     },
     "metadata": {},
     "output_type": "display_data"
    },
    {
     "data": {
      "text/html": [
       "<div>\n",
       "<style scoped>\n",
       "    .dataframe tbody tr th:only-of-type {\n",
       "        vertical-align: middle;\n",
       "    }\n",
       "\n",
       "    .dataframe tbody tr th {\n",
       "        vertical-align: top;\n",
       "    }\n",
       "\n",
       "    .dataframe thead th {\n",
       "        text-align: right;\n",
       "    }\n",
       "</style>\n",
       "<table border=\"1\" class=\"dataframe\">\n",
       "  <thead>\n",
       "    <tr style=\"text-align: right;\">\n",
       "      <th></th>\n",
       "      <th>tconst</th>\n",
       "      <th>titleType</th>\n",
       "      <th>primaryTitle</th>\n",
       "      <th>originalTitle</th>\n",
       "      <th>isAdult</th>\n",
       "      <th>startYear</th>\n",
       "      <th>endYear</th>\n",
       "      <th>runtimeMinutes</th>\n",
       "      <th>genres</th>\n",
       "    </tr>\n",
       "  </thead>\n",
       "  <tbody>\n",
       "    <tr>\n",
       "      <th>0</th>\n",
       "      <td>tt0000001</td>\n",
       "      <td>short</td>\n",
       "      <td>Carmencita</td>\n",
       "      <td>Carmencita</td>\n",
       "      <td>0</td>\n",
       "      <td>1894</td>\n",
       "      <td>\\N</td>\n",
       "      <td>1</td>\n",
       "      <td>Documentary,Short</td>\n",
       "    </tr>\n",
       "    <tr>\n",
       "      <th>1</th>\n",
       "      <td>tt0000002</td>\n",
       "      <td>short</td>\n",
       "      <td>Le clown et ses chiens</td>\n",
       "      <td>Le clown et ses chiens</td>\n",
       "      <td>0</td>\n",
       "      <td>1892</td>\n",
       "      <td>\\N</td>\n",
       "      <td>5</td>\n",
       "      <td>Animation,Short</td>\n",
       "    </tr>\n",
       "    <tr>\n",
       "      <th>2</th>\n",
       "      <td>tt0000003</td>\n",
       "      <td>short</td>\n",
       "      <td>Pauvre Pierrot</td>\n",
       "      <td>Pauvre Pierrot</td>\n",
       "      <td>0</td>\n",
       "      <td>1892</td>\n",
       "      <td>\\N</td>\n",
       "      <td>4</td>\n",
       "      <td>Animation,Comedy,Romance</td>\n",
       "    </tr>\n",
       "    <tr>\n",
       "      <th>3</th>\n",
       "      <td>tt0000004</td>\n",
       "      <td>short</td>\n",
       "      <td>Un bon bock</td>\n",
       "      <td>Un bon bock</td>\n",
       "      <td>0</td>\n",
       "      <td>1892</td>\n",
       "      <td>\\N</td>\n",
       "      <td>12</td>\n",
       "      <td>Animation,Short</td>\n",
       "    </tr>\n",
       "    <tr>\n",
       "      <th>4</th>\n",
       "      <td>tt0000005</td>\n",
       "      <td>short</td>\n",
       "      <td>Blacksmith Scene</td>\n",
       "      <td>Blacksmith Scene</td>\n",
       "      <td>0</td>\n",
       "      <td>1893</td>\n",
       "      <td>\\N</td>\n",
       "      <td>1</td>\n",
       "      <td>Comedy,Short</td>\n",
       "    </tr>\n",
       "  </tbody>\n",
       "</table>\n",
       "</div>"
      ],
      "text/plain": [
       "      tconst titleType            primaryTitle           originalTitle  \\\n",
       "0  tt0000001     short              Carmencita              Carmencita   \n",
       "1  tt0000002     short  Le clown et ses chiens  Le clown et ses chiens   \n",
       "2  tt0000003     short          Pauvre Pierrot          Pauvre Pierrot   \n",
       "3  tt0000004     short             Un bon bock             Un bon bock   \n",
       "4  tt0000005     short        Blacksmith Scene        Blacksmith Scene   \n",
       "\n",
       "  isAdult startYear endYear runtimeMinutes                    genres  \n",
       "0       0      1894      \\N              1         Documentary,Short  \n",
       "1       0      1892      \\N              5           Animation,Short  \n",
       "2       0      1892      \\N              4  Animation,Comedy,Romance  \n",
       "3       0      1892      \\N             12           Animation,Short  \n",
       "4       0      1893      \\N              1              Comedy,Short  "
      ]
     },
     "metadata": {},
     "output_type": "display_data"
    },
    {
     "data": {
      "text/html": [
       "<div>\n",
       "<style scoped>\n",
       "    .dataframe tbody tr th:only-of-type {\n",
       "        vertical-align: middle;\n",
       "    }\n",
       "\n",
       "    .dataframe tbody tr th {\n",
       "        vertical-align: top;\n",
       "    }\n",
       "\n",
       "    .dataframe thead th {\n",
       "        text-align: right;\n",
       "    }\n",
       "</style>\n",
       "<table border=\"1\" class=\"dataframe\">\n",
       "  <thead>\n",
       "    <tr style=\"text-align: right;\">\n",
       "      <th></th>\n",
       "      <th>tconst</th>\n",
       "      <th>averageRating</th>\n",
       "      <th>numVotes</th>\n",
       "    </tr>\n",
       "  </thead>\n",
       "  <tbody>\n",
       "    <tr>\n",
       "      <th>0</th>\n",
       "      <td>tt0000001</td>\n",
       "      <td>5.7</td>\n",
       "      <td>1910</td>\n",
       "    </tr>\n",
       "    <tr>\n",
       "      <th>1</th>\n",
       "      <td>tt0000002</td>\n",
       "      <td>5.8</td>\n",
       "      <td>256</td>\n",
       "    </tr>\n",
       "    <tr>\n",
       "      <th>2</th>\n",
       "      <td>tt0000003</td>\n",
       "      <td>6.5</td>\n",
       "      <td>1715</td>\n",
       "    </tr>\n",
       "    <tr>\n",
       "      <th>3</th>\n",
       "      <td>tt0000004</td>\n",
       "      <td>5.6</td>\n",
       "      <td>169</td>\n",
       "    </tr>\n",
       "    <tr>\n",
       "      <th>4</th>\n",
       "      <td>tt0000005</td>\n",
       "      <td>6.2</td>\n",
       "      <td>2529</td>\n",
       "    </tr>\n",
       "  </tbody>\n",
       "</table>\n",
       "</div>"
      ],
      "text/plain": [
       "      tconst  averageRating  numVotes\n",
       "0  tt0000001            5.7      1910\n",
       "1  tt0000002            5.8       256\n",
       "2  tt0000003            6.5      1715\n",
       "3  tt0000004            5.6       169\n",
       "4  tt0000005            6.2      2529"
      ]
     },
     "metadata": {},
     "output_type": "display_data"
    }
   ],
   "source": [
    "# Load Data\n",
    "basic_address = 'https://datasets.imdbws.com/title.basics.tsv.gz'\n",
    "akas_address = 'https://datasets.imdbws.com/title.akas.tsv.gz'\n",
    "ratings_address = 'https://datasets.imdbws.com/title.ratings.tsv.gz'\n",
    "\n",
    "akas = pd.read_csv(akas_address, sep='\\t', low_memory=False)\n",
    "display(akas.head())\n",
    "\n",
    "basics = pd.read_csv(basic_address, sep='\\t', low_memory=False)\n",
    "display(basics.head())\n",
    "\n",
    "ratings = pd.read_csv(ratings_address, sep='\\t', low_memory=False)\n",
    "display(ratings.head())"
   ]
  },
  {
   "cell_type": "code",
   "execution_count": 4,
   "id": "fbd2f53c",
   "metadata": {
    "ExecuteTime": {
     "end_time": "2022-10-26T17:34:07.426921Z",
     "start_time": "2022-10-26T17:34:04.867244Z"
    }
   },
   "outputs": [],
   "source": [
    "akas = pd.read_csv('Data/title_akas.csv.gz')\n",
    "basics = pd.read_csv('Data/title_basics.csv.gz')\n",
    "ratings = pd.read_csv('Data/title_ratings.csv.gz')"
   ]
  },
  {
   "cell_type": "markdown",
   "id": "13adfac6",
   "metadata": {},
   "source": [
    "# Start EDA"
   ]
  },
  {
   "cell_type": "code",
   "execution_count": 5,
   "id": "f236e61d",
   "metadata": {
    "ExecuteTime": {
     "end_time": "2022-10-26T17:34:12.998538Z",
     "start_time": "2022-10-26T17:34:12.027936Z"
    }
   },
   "outputs": [
    {
     "name": "stdout",
     "output_type": "stream",
     "text": [
      "Akas\n",
      "<class 'pandas.core.frame.DataFrame'>\n",
      "RangeIndex: 1351440 entries, 0 to 1351439\n",
      "Data columns (total 8 columns):\n",
      " #   Column           Non-Null Count    Dtype  \n",
      "---  ------           --------------    -----  \n",
      " 0   titleId          1351440 non-null  object \n",
      " 1   ordering         1351440 non-null  int64  \n",
      " 2   title            1351440 non-null  object \n",
      " 3   region           1351440 non-null  object \n",
      " 4   language         3704 non-null     object \n",
      " 5   types            964227 non-null   object \n",
      " 6   attributes       45020 non-null    object \n",
      " 7   isOriginalTitle  1350065 non-null  float64\n",
      "dtypes: float64(1), int64(1), object(6)\n",
      "memory usage: 82.5+ MB\n"
     ]
    },
    {
     "data": {
      "text/plain": [
       "None"
      ]
     },
     "metadata": {},
     "output_type": "display_data"
    },
    {
     "name": "stdout",
     "output_type": "stream",
     "text": [
      "Basics\n",
      "<class 'pandas.core.frame.DataFrame'>\n",
      "RangeIndex: 79682 entries, 0 to 79681\n",
      "Data columns (total 9 columns):\n",
      " #   Column          Non-Null Count  Dtype  \n",
      "---  ------          --------------  -----  \n",
      " 0   tconst          79682 non-null  object \n",
      " 1   titleType       79682 non-null  object \n",
      " 2   primaryTitle    79682 non-null  object \n",
      " 3   originalTitle   79682 non-null  object \n",
      " 4   isAdult         79682 non-null  int64  \n",
      " 5   startYear       79682 non-null  int64  \n",
      " 6   endYear         0 non-null      float64\n",
      " 7   runtimeMinutes  79682 non-null  int64  \n",
      " 8   genres          79682 non-null  object \n",
      "dtypes: float64(1), int64(3), object(5)\n",
      "memory usage: 5.5+ MB\n"
     ]
    },
    {
     "data": {
      "text/plain": [
       "None"
      ]
     },
     "metadata": {},
     "output_type": "display_data"
    },
    {
     "name": "stdout",
     "output_type": "stream",
     "text": [
      "Ratings\n",
      "<class 'pandas.core.frame.DataFrame'>\n",
      "RangeIndex: 1261370 entries, 0 to 1261369\n",
      "Data columns (total 3 columns):\n",
      " #   Column         Non-Null Count    Dtype  \n",
      "---  ------         --------------    -----  \n",
      " 0   tconst         1261370 non-null  object \n",
      " 1   averageRating  1261370 non-null  float64\n",
      " 2   numVotes       1261370 non-null  int64  \n",
      "dtypes: float64(1), int64(1), object(1)\n",
      "memory usage: 28.9+ MB\n"
     ]
    },
    {
     "data": {
      "text/plain": [
       "None"
      ]
     },
     "metadata": {},
     "output_type": "display_data"
    }
   ],
   "source": [
    "# Some light EDA\n",
    "print('Akas')\n",
    "display(akas.info())\n",
    "print('Basics')\n",
    "display(basics.info())\n",
    "print('Ratings')\n",
    "display(ratings.info())"
   ]
  },
  {
   "cell_type": "markdown",
   "id": "4aeb4cf3",
   "metadata": {},
   "source": [
    "# Data Cleaning"
   ]
  },
  {
   "cell_type": "code",
   "execution_count": 6,
   "id": "211fde00",
   "metadata": {
    "ExecuteTime": {
     "end_time": "2022-10-26T17:34:13.265787Z",
     "start_time": "2022-10-26T17:34:13.000498Z"
    }
   },
   "outputs": [],
   "source": [
    "# replace Ns with nans\n",
    "basics = basics.replace('\\\\N', np.nan)\n",
    "akas = akas.replace('\\\\N', np.nan)\n",
    "ratings = ratings.replace('\\\\N', np.nan)"
   ]
  },
  {
   "cell_type": "code",
   "execution_count": 7,
   "id": "943fc949",
   "metadata": {
    "ExecuteTime": {
     "end_time": "2022-10-26T17:34:13.297702Z",
     "start_time": "2022-10-26T17:34:13.266785Z"
    }
   },
   "outputs": [],
   "source": [
    "# Cleaning basics\n",
    "basics = basics.dropna(subset=['genres','runtimeMinutes', 'startYear'])\n",
    "basics['startYear'] = basics['startYear'].astype(int)"
   ]
  },
  {
   "cell_type": "markdown",
   "id": "3b8caccc",
   "metadata": {},
   "source": [
    "# Filter for recent fictional movies released in the US"
   ]
  },
  {
   "cell_type": "code",
   "execution_count": 8,
   "id": "c0a4741f",
   "metadata": {
    "ExecuteTime": {
     "end_time": "2022-10-26T17:34:13.408685Z",
     "start_time": "2022-10-26T17:34:13.299698Z"
    }
   },
   "outputs": [
    {
     "name": "stdout",
     "output_type": "stream",
     "text": [
      "<class 'pandas.core.frame.DataFrame'>\n",
      "Int64Index: 79682 entries, 0 to 79681\n",
      "Data columns (total 9 columns):\n",
      " #   Column          Non-Null Count  Dtype  \n",
      "---  ------          --------------  -----  \n",
      " 0   tconst          79682 non-null  object \n",
      " 1   titleType       79682 non-null  object \n",
      " 2   primaryTitle    79682 non-null  object \n",
      " 3   originalTitle   79682 non-null  object \n",
      " 4   isAdult         79682 non-null  int64  \n",
      " 5   startYear       79682 non-null  int32  \n",
      " 6   endYear         0 non-null      float64\n",
      " 7   runtimeMinutes  79682 non-null  int64  \n",
      " 8   genres          79682 non-null  object \n",
      "dtypes: float64(1), int32(1), int64(2), object(5)\n",
      "memory usage: 5.8+ MB\n"
     ]
    }
   ],
   "source": [
    "# Filter basics for recent fiction movies\n",
    "is_movie = basics['titleType'] == 'movie'\n",
    "is_doc = basics['genres'].str.contains('documentary', case=False)\n",
    "is_current = (basics['startYear'] >= 2000) & (basics['startYear'] <= 2021)\n",
    "basics = basics.loc[is_movie\n",
    "                    & ~is_doc\n",
    "                    & is_current]\n",
    "\n",
    "basics.info()"
   ]
  },
  {
   "cell_type": "code",
   "execution_count": 9,
   "id": "9276d93f",
   "metadata": {
    "ExecuteTime": {
     "end_time": "2022-10-26T17:34:13.469980Z",
     "start_time": "2022-10-26T17:34:13.409384Z"
    }
   },
   "outputs": [
    {
     "data": {
      "text/plain": [
       "array(['US'], dtype=object)"
      ]
     },
     "execution_count": 9,
     "metadata": {},
     "output_type": "execute_result"
    }
   ],
   "source": [
    "# Check akas region encoding\n",
    "akas['region'].unique()"
   ]
  },
  {
   "cell_type": "code",
   "execution_count": 10,
   "id": "2fd5f1ae",
   "metadata": {
    "ExecuteTime": {
     "end_time": "2022-10-26T17:34:13.676697Z",
     "start_time": "2022-10-26T17:34:13.470980Z"
    }
   },
   "outputs": [],
   "source": [
    "# filter for US movies\n",
    "akas = akas.loc[akas['region'] == 'US']"
   ]
  },
  {
   "cell_type": "code",
   "execution_count": 11,
   "id": "7ccfbc8f",
   "metadata": {
    "ExecuteTime": {
     "end_time": "2022-10-26T17:34:13.914107Z",
     "start_time": "2022-10-26T17:34:13.677710Z"
    }
   },
   "outputs": [],
   "source": [
    "# Use akas to filter basics to remove non-US movies\n",
    "\n",
    "us_movies = basics['tconst'].isin(akas['titleId'])\n",
    "basics = basics[us_movies]"
   ]
  },
  {
   "cell_type": "code",
   "execution_count": 12,
   "id": "09dc7133",
   "metadata": {
    "ExecuteTime": {
     "end_time": "2022-10-26T17:34:14.278303Z",
     "start_time": "2022-10-26T17:34:13.915076Z"
    }
   },
   "outputs": [],
   "source": [
    "# Use basics to filter akas and ratings\n",
    "akas = akas[akas['titleId'].isin(basics['tconst'])]\n",
    "ratings = ratings[ratings['tconst'].isin(basics['tconst'])]"
   ]
  },
  {
   "cell_type": "code",
   "execution_count": 13,
   "id": "4bf4f364",
   "metadata": {
    "ExecuteTime": {
     "end_time": "2022-10-26T17:34:14.415082Z",
     "start_time": "2022-10-26T17:34:14.279301Z"
    },
    "scrolled": true
   },
   "outputs": [
    {
     "name": "stdout",
     "output_type": "stream",
     "text": [
      "Akas\n",
      "<class 'pandas.core.frame.DataFrame'>\n",
      "Int64Index: 88979 entries, 34442 to 1351431\n",
      "Data columns (total 8 columns):\n",
      " #   Column           Non-Null Count  Dtype  \n",
      "---  ------           --------------  -----  \n",
      " 0   titleId          88979 non-null  object \n",
      " 1   ordering         88979 non-null  int64  \n",
      " 2   title            88979 non-null  object \n",
      " 3   region           88979 non-null  object \n",
      " 4   language         892 non-null    object \n",
      " 5   types            82639 non-null  object \n",
      " 6   attributes       4159 non-null   object \n",
      " 7   isOriginalTitle  88979 non-null  float64\n",
      "dtypes: float64(1), int64(1), object(6)\n",
      "memory usage: 6.1+ MB\n"
     ]
    },
    {
     "data": {
      "text/plain": [
       "None"
      ]
     },
     "metadata": {},
     "output_type": "display_data"
    },
    {
     "name": "stdout",
     "output_type": "stream",
     "text": [
      "Basics\n",
      "<class 'pandas.core.frame.DataFrame'>\n",
      "Int64Index: 79682 entries, 0 to 79681\n",
      "Data columns (total 9 columns):\n",
      " #   Column          Non-Null Count  Dtype  \n",
      "---  ------          --------------  -----  \n",
      " 0   tconst          79682 non-null  object \n",
      " 1   titleType       79682 non-null  object \n",
      " 2   primaryTitle    79682 non-null  object \n",
      " 3   originalTitle   79682 non-null  object \n",
      " 4   isAdult         79682 non-null  int64  \n",
      " 5   startYear       79682 non-null  int32  \n",
      " 6   endYear         0 non-null      float64\n",
      " 7   runtimeMinutes  79682 non-null  int64  \n",
      " 8   genres          79682 non-null  object \n",
      "dtypes: float64(1), int32(1), int64(2), object(5)\n",
      "memory usage: 5.8+ MB\n"
     ]
    },
    {
     "data": {
      "text/plain": [
       "None"
      ]
     },
     "metadata": {},
     "output_type": "display_data"
    },
    {
     "name": "stdout",
     "output_type": "stream",
     "text": [
      "Ratings\n",
      "<class 'pandas.core.frame.DataFrame'>\n",
      "Int64Index: 66093 entries, 17879 to 1261348\n",
      "Data columns (total 3 columns):\n",
      " #   Column         Non-Null Count  Dtype  \n",
      "---  ------         --------------  -----  \n",
      " 0   tconst         66093 non-null  object \n",
      " 1   averageRating  66093 non-null  float64\n",
      " 2   numVotes       66093 non-null  int64  \n",
      "dtypes: float64(1), int64(1), object(1)\n",
      "memory usage: 2.0+ MB\n"
     ]
    },
    {
     "data": {
      "text/plain": [
       "None"
      ]
     },
     "metadata": {},
     "output_type": "display_data"
    }
   ],
   "source": [
    "# Check the tables after cleaning/filtering\n",
    "print('Akas')\n",
    "display(akas.info())\n",
    "print('Basics')\n",
    "display(basics.info())\n",
    "print('Ratings')\n",
    "display(ratings.info())"
   ]
  },
  {
   "cell_type": "markdown",
   "id": "0703a9be",
   "metadata": {},
   "source": [
    "# Save new tables"
   ]
  },
  {
   "cell_type": "code",
   "execution_count": 14,
   "id": "ed55762b",
   "metadata": {
    "ExecuteTime": {
     "end_time": "2022-10-26T17:34:59.532052Z",
     "start_time": "2022-10-26T17:34:57.436047Z"
    }
   },
   "outputs": [],
   "source": [
    "# Save the new tables\n",
    "import os\n",
    "os.makedirs('Data/', exist_ok=True)\n",
    "\n",
    "basics.to_csv('Data/title_basics.csv.gz', compression='gzip', index=False)\n",
    "akas.to_csv('Data/title_akas.csv.gz', compression='gzip', index=False)\n",
    "ratings.to_csv('Data/title_ratings.csv.gz', compression='gzip', index=False)"
   ]
  },
  {
   "cell_type": "code",
   "execution_count": null,
   "id": "0f71a6d9",
   "metadata": {},
   "outputs": [],
   "source": []
  }
 ],
 "metadata": {
  "kernelspec": {
   "display_name": "Python (dojo-env)",
   "language": "python",
   "name": "dojo-env"
  },
  "language_info": {
   "codemirror_mode": {
    "name": "ipython",
    "version": 3
   },
   "file_extension": ".py",
   "mimetype": "text/x-python",
   "name": "python",
   "nbconvert_exporter": "python",
   "pygments_lexer": "ipython3",
   "version": "3.8.13"
  },
  "toc": {
   "base_numbering": 1,
   "nav_menu": {},
   "number_sections": true,
   "sideBar": true,
   "skip_h1_title": false,
   "title_cell": "Table of Contents",
   "title_sidebar": "Contents",
   "toc_cell": false,
   "toc_position": {},
   "toc_section_display": true,
   "toc_window_display": false
  }
 },
 "nbformat": 4,
 "nbformat_minor": 5
}
