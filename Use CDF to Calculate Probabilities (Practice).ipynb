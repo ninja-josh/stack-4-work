{
 "cells": [
  {
   "cell_type": "markdown",
   "id": "556cea69",
   "metadata": {},
   "source": [
    "Josh Johnson\n",
    "\n",
    "11/30/2022\n",
    "\n",
    "Use CDF to Calculate Probabilites (Practice)"
   ]
  },
  {
   "cell_type": "code",
   "execution_count": 1,
   "id": "e560be13",
   "metadata": {
    "ExecuteTime": {
     "end_time": "2022-11-30T23:32:01.125995Z",
     "start_time": "2022-11-30T23:31:59.954290Z"
    }
   },
   "outputs": [],
   "source": [
    "import pandas as pd\n",
    "import numpy as np\n",
    "import matplotlib.pyplot as plt\n",
    "import seaborn as sns\n",
    "import scipy.stats as stats"
   ]
  },
  {
   "cell_type": "code",
   "execution_count": 2,
   "id": "3a89e882",
   "metadata": {
    "ExecuteTime": {
     "end_time": "2022-11-30T23:32:43.563421Z",
     "start_time": "2022-11-30T23:32:41.865812Z"
    }
   },
   "outputs": [
    {
     "data": {
      "text/html": [
       "<div>\n",
       "<style scoped>\n",
       "    .dataframe tbody tr th:only-of-type {\n",
       "        vertical-align: middle;\n",
       "    }\n",
       "\n",
       "    .dataframe tbody tr th {\n",
       "        vertical-align: top;\n",
       "    }\n",
       "\n",
       "    .dataframe thead th {\n",
       "        text-align: right;\n",
       "    }\n",
       "</style>\n",
       "<table border=\"1\" class=\"dataframe\">\n",
       "  <thead>\n",
       "    <tr style=\"text-align: right;\">\n",
       "      <th></th>\n",
       "      <th>Gender</th>\n",
       "      <th>Height</th>\n",
       "      <th>Weight</th>\n",
       "    </tr>\n",
       "  </thead>\n",
       "  <tbody>\n",
       "    <tr>\n",
       "      <th>0</th>\n",
       "      <td>Male</td>\n",
       "      <td>73.847017</td>\n",
       "      <td>241.893563</td>\n",
       "    </tr>\n",
       "    <tr>\n",
       "      <th>1</th>\n",
       "      <td>Male</td>\n",
       "      <td>68.781904</td>\n",
       "      <td>162.310473</td>\n",
       "    </tr>\n",
       "    <tr>\n",
       "      <th>2</th>\n",
       "      <td>Male</td>\n",
       "      <td>74.110105</td>\n",
       "      <td>212.740856</td>\n",
       "    </tr>\n",
       "    <tr>\n",
       "      <th>3</th>\n",
       "      <td>Male</td>\n",
       "      <td>71.730978</td>\n",
       "      <td>220.042470</td>\n",
       "    </tr>\n",
       "    <tr>\n",
       "      <th>4</th>\n",
       "      <td>Male</td>\n",
       "      <td>69.881796</td>\n",
       "      <td>206.349801</td>\n",
       "    </tr>\n",
       "  </tbody>\n",
       "</table>\n",
       "</div>"
      ],
      "text/plain": [
       "  Gender     Height      Weight\n",
       "0   Male  73.847017  241.893563\n",
       "1   Male  68.781904  162.310473\n",
       "2   Male  74.110105  212.740856\n",
       "3   Male  71.730978  220.042470\n",
       "4   Male  69.881796  206.349801"
      ]
     },
     "execution_count": 2,
     "metadata": {},
     "output_type": "execute_result"
    }
   ],
   "source": [
    "df = pd.read_csv('https://docs.google.com/spreadsheets/d/e/2PACX-1vRxp-hsw61ck9cpt5ExZIUhvSGT5zYzoUJl_7xr7YF5qZeazC8393q2taqwkDvMxVirgFDJm1WX3uAC/pub?output=csv')\n",
    "df.head()"
   ]
  },
  {
   "cell_type": "code",
   "execution_count": 6,
   "id": "215ff305",
   "metadata": {
    "ExecuteTime": {
     "end_time": "2022-11-30T23:34:24.867599Z",
     "start_time": "2022-11-30T23:34:24.848645Z"
    }
   },
   "outputs": [
    {
     "data": {
      "text/plain": [
       "5000    58.910732\n",
       "5001    65.230013\n",
       "5002    63.369004\n",
       "5003    64.479997\n",
       "5004    61.793096\n",
       "Name: Height, dtype: float64"
      ]
     },
     "execution_count": 6,
     "metadata": {},
     "output_type": "execute_result"
    }
   ],
   "source": [
    "f_height = df[df['Gender'] == 'Female']['Height']\n",
    "f_height.head()"
   ]
  },
  {
   "cell_type": "code",
   "execution_count": 7,
   "id": "002bd342",
   "metadata": {
    "ExecuteTime": {
     "end_time": "2022-11-30T23:34:25.704128Z",
     "start_time": "2022-11-30T23:34:25.689647Z"
    }
   },
   "outputs": [],
   "source": [
    "mean = f_height.mean()\n",
    "std = f_height.std()"
   ]
  },
  {
   "cell_type": "code",
   "execution_count": 8,
   "id": "c87e6fbd",
   "metadata": {
    "ExecuteTime": {
     "end_time": "2022-11-30T23:34:57.026008Z",
     "start_time": "2022-11-30T23:34:57.008542Z"
    }
   },
   "outputs": [],
   "source": [
    "low = 55\n",
    "high = 56"
   ]
  },
  {
   "cell_type": "code",
   "execution_count": 13,
   "id": "36c7f0a8",
   "metadata": {
    "ExecuteTime": {
     "end_time": "2022-11-30T23:37:13.539347Z",
     "start_time": "2022-11-30T23:37:13.521489Z"
    }
   },
   "outputs": [
    {
     "name": "stdout",
     "output_type": "stream",
     "text": [
      "probability of a female being between 55 and 56 inches tall is 0.0015055206795372214\n"
     ]
    }
   ],
   "source": [
    "low_cdf = stats.norm.cdf(low, loc=mean, scale=std)\n",
    "high_cdf = stats.norm.cdf(high, loc=mean, scale=std)\n",
    "\n",
    "prob = high_cdf - low_cdf\n",
    "print(f'probability of a female being between {low} and {high} inches tall is {prob}')"
   ]
  },
  {
   "cell_type": "code",
   "execution_count": 17,
   "id": "8de32bee",
   "metadata": {
    "ExecuteTime": {
     "end_time": "2022-11-30T23:39:20.988470Z",
     "start_time": "2022-11-30T23:39:20.969478Z"
    }
   },
   "outputs": [
    {
     "name": "stdout",
     "output_type": "stream",
     "text": [
      "There is a 0.08448623553403717 chance that a female will be shorter than 60 inches tall\n"
     ]
    }
   ],
   "source": [
    "max_height = 60\n",
    "prob_less_5 = stats.norm.cdf(60, loc=mean, scale=std)\n",
    "print(f'There is a {prob_less_5} chance that a female will be shorter than {max_height} inches tall')"
   ]
  },
  {
   "cell_type": "code",
   "execution_count": 19,
   "id": "9952d82f",
   "metadata": {
    "ExecuteTime": {
     "end_time": "2022-11-30T23:40:33.906042Z",
     "start_time": "2022-11-30T23:40:33.889087Z"
    }
   },
   "outputs": [
    {
     "name": "stdout",
     "output_type": "stream",
     "text": [
      "of course, there is a 0.5 chance that a female will be taller than average\n"
     ]
    }
   ],
   "source": [
    "prob_over_mean = 1 - stats.norm.cdf(mean, loc=mean, scale=std)\n",
    "print(f'of course, there is a {prob_over_mean} chance that a female will be taller than average')"
   ]
  },
  {
   "cell_type": "code",
   "execution_count": null,
   "id": "3287d59f",
   "metadata": {},
   "outputs": [],
   "source": []
  }
 ],
 "metadata": {
  "kernelspec": {
   "display_name": "Python dojo-env",
   "language": "python",
   "name": "dojo-env"
  },
  "language_info": {
   "codemirror_mode": {
    "name": "ipython",
    "version": 3
   },
   "file_extension": ".py",
   "mimetype": "text/x-python",
   "name": "python",
   "nbconvert_exporter": "python",
   "pygments_lexer": "ipython3",
   "version": "3.9.15"
  },
  "toc": {
   "base_numbering": 1,
   "nav_menu": {},
   "number_sections": true,
   "sideBar": true,
   "skip_h1_title": false,
   "title_cell": "Table of Contents",
   "title_sidebar": "Contents",
   "toc_cell": false,
   "toc_position": {},
   "toc_section_display": true,
   "toc_window_display": false
  }
 },
 "nbformat": 4,
 "nbformat_minor": 5
}
