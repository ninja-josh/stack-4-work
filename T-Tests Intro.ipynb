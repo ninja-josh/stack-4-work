{
 "cells": [
  {
   "cell_type": "markdown",
   "id": "d0e31c11",
   "metadata": {},
   "source": [
    "# <center> T-Tests </center>"
   ]
  },
  {
   "cell_type": "code",
   "execution_count": 1,
   "id": "0371c899",
   "metadata": {
    "ExecuteTime": {
     "end_time": "2022-12-15T00:02:33.121752Z",
     "start_time": "2022-12-15T00:02:32.283255Z"
    }
   },
   "outputs": [],
   "source": [
    "import pandas as pd\n",
    "import numpy as np\n",
    "import scipy.stats as stats\n",
    "\n"
   ]
  },
  {
   "cell_type": "code",
   "execution_count": 2,
   "id": "979b30a7",
   "metadata": {
    "ExecuteTime": {
     "end_time": "2022-12-15T00:02:39.699540Z",
     "start_time": "2022-12-15T00:02:38.488425Z"
    }
   },
   "outputs": [
    {
     "name": "stdout",
     "output_type": "stream",
     "text": [
      "For Males (n=27): Mean=68.90\n",
      "For Females (n=23): Mean=64.13\n"
     ]
    }
   ],
   "source": [
    "df = pd.read_csv(\"https://docs.google.com/spreadsheets/d/e/2PACX-1vRxp-hsw61ck9cpt5ExZIUhvSGT5zYzoUJl_7xr7YF5qZeazC8393q2taqwkDvMxVirgFDJm1WX3uAC/pub?output=csv\")\n",
    "sample = df.sample(n=50,random_state=42)\n",
    "female_height = sample.loc[ sample['Gender']=='Female',\"Height\"]\n",
    "male_height = sample.loc[ sample['Gender']=='Male',\"Height\"]\n",
    "## Getting means for gender height\n",
    "print(f\"For Males (n={len(male_height)}): Mean={np.mean(male_height):.2f}\")\n",
    "print(f\"For Females (n={len(female_height)}): Mean={np.mean(female_height):.2f}\")\n",
    "\n"
   ]
  },
  {
   "cell_type": "code",
   "execution_count": 3,
   "id": "4da8db30",
   "metadata": {
    "ExecuteTime": {
     "end_time": "2022-12-15T00:02:54.342165Z",
     "start_time": "2022-12-15T00:02:54.321220Z"
    }
   },
   "outputs": [
    {
     "data": {
      "text/plain": [
       "0"
      ]
     },
     "execution_count": 3,
     "metadata": {},
     "output_type": "execute_result"
    }
   ],
   "source": [
    "zscores_f = stats.zscore(female_height)\n",
    "outliers_f = abs(zscores_f)>3\n",
    "np.sum(outliers_f)\n",
    "\n"
   ]
  },
  {
   "cell_type": "code",
   "execution_count": 4,
   "id": "97651f22",
   "metadata": {
    "ExecuteTime": {
     "end_time": "2022-12-15T00:03:06.866447Z",
     "start_time": "2022-12-15T00:03:06.857462Z"
    }
   },
   "outputs": [
    {
     "data": {
      "text/plain": [
       "0"
      ]
     },
     "execution_count": 4,
     "metadata": {},
     "output_type": "execute_result"
    }
   ],
   "source": [
    "zscores_m = stats.zscore(male_height)\n",
    "outliers_m = abs(zscores_m)>3\n",
    "np.sum(outliers_m)\n"
   ]
  },
  {
   "cell_type": "code",
   "execution_count": 5,
   "id": "d9b04d24",
   "metadata": {
    "ExecuteTime": {
     "end_time": "2022-12-15T00:03:20.586232Z",
     "start_time": "2022-12-15T00:03:20.568276Z"
    }
   },
   "outputs": [
    {
     "data": {
      "text/plain": [
       "NormaltestResult(statistic=0.33615904712566513, pvalue=0.8452866118088072)"
      ]
     },
     "execution_count": 5,
     "metadata": {},
     "output_type": "execute_result"
    }
   ],
   "source": [
    "# normal test males\n",
    "result_m = stats.normaltest(male_height)\n",
    "result_m\n",
    "\n"
   ]
  },
  {
   "cell_type": "code",
   "execution_count": 6,
   "id": "60c2e849",
   "metadata": {
    "ExecuteTime": {
     "end_time": "2022-12-15T00:03:26.034783Z",
     "start_time": "2022-12-15T00:03:26.024810Z"
    }
   },
   "outputs": [
    {
     "data": {
      "text/plain": [
       "NormaltestResult(statistic=2.8307141616584417, pvalue=0.2428388848547339)"
      ]
     },
     "execution_count": 6,
     "metadata": {},
     "output_type": "execute_result"
    }
   ],
   "source": [
    "# normal test females\n",
    "result_f = stats.normaltest(female_height)\n",
    "result_f\n",
    "\n"
   ]
  },
  {
   "cell_type": "code",
   "execution_count": 7,
   "id": "19430656",
   "metadata": {
    "ExecuteTime": {
     "end_time": "2022-12-15T00:03:39.692147Z",
     "start_time": "2022-12-15T00:03:39.673198Z"
    }
   },
   "outputs": [
    {
     "data": {
      "text/plain": [
       "LeveneResult(statistic=0.4550154927872889, pvalue=0.5031988559709122)"
      ]
     },
     "execution_count": 7,
     "metadata": {},
     "output_type": "execute_result"
    }
   ],
   "source": [
    "result = stats.levene(female_height, male_height)\n",
    "result\n",
    "\n"
   ]
  },
  {
   "cell_type": "code",
   "execution_count": 9,
   "id": "a4675af2",
   "metadata": {
    "ExecuteTime": {
     "end_time": "2022-12-15T00:04:24.619427Z",
     "start_time": "2022-12-15T00:04:24.601477Z"
    }
   },
   "outputs": [
    {
     "data": {
      "text/plain": [
       "Ttest_indResult(statistic=-6.700593917991493, pvalue=2.1170736038110527e-08)"
      ]
     },
     "execution_count": 9,
     "metadata": {},
     "output_type": "execute_result"
    }
   ],
   "source": [
    "## Final t-test, after confirming we meet the assumptions\n",
    "result = stats.ttest_ind(female_height,male_height)\n",
    "result\n",
    "\n"
   ]
  },
  {
   "cell_type": "code",
   "execution_count": 10,
   "id": "400e24fe",
   "metadata": {
    "ExecuteTime": {
     "end_time": "2022-12-15T00:04:44.279864Z",
     "start_time": "2022-12-15T00:04:44.273880Z"
    }
   },
   "outputs": [
    {
     "name": "stdout",
     "output_type": "stream",
     "text": [
      "p-value=0.0000000212\n",
      "Significant: True\n"
     ]
    }
   ],
   "source": [
    "## is our result significant\n",
    "print(f\"p-value={result.pvalue:.10f}\")\n",
    "print(f\"Significant: {result.pvalue <.05}\")\n",
    "\n"
   ]
  },
  {
   "cell_type": "markdown",
   "id": "954cd167",
   "metadata": {},
   "source": [
    "# <center> Walkthrough T-Test </center>"
   ]
  },
  {
   "cell_type": "code",
   "execution_count": 11,
   "id": "f683aae1",
   "metadata": {
    "ExecuteTime": {
     "end_time": "2022-12-15T00:08:06.937589Z",
     "start_time": "2022-12-15T00:08:06.443598Z"
    }
   },
   "outputs": [],
   "source": [
    "import pandas as pd\n",
    "import numpy as np\n",
    "import matplotlib.pyplot as plt\n",
    "import seaborn as sns\n",
    "import scipy.stats as stats\n"
   ]
  },
  {
   "cell_type": "code",
   "execution_count": 12,
   "id": "94d6ab47",
   "metadata": {
    "ExecuteTime": {
     "end_time": "2022-12-15T00:08:13.312018Z",
     "start_time": "2022-12-15T00:08:11.466123Z"
    }
   },
   "outputs": [
    {
     "data": {
      "text/html": [
       "<div>\n",
       "<style scoped>\n",
       "    .dataframe tbody tr th:only-of-type {\n",
       "        vertical-align: middle;\n",
       "    }\n",
       "\n",
       "    .dataframe tbody tr th {\n",
       "        vertical-align: top;\n",
       "    }\n",
       "\n",
       "    .dataframe thead th {\n",
       "        text-align: right;\n",
       "    }\n",
       "</style>\n",
       "<table border=\"1\" class=\"dataframe\">\n",
       "  <thead>\n",
       "    <tr style=\"text-align: right;\">\n",
       "      <th></th>\n",
       "      <th>Gender</th>\n",
       "      <th>Race</th>\n",
       "      <th>Alignment</th>\n",
       "      <th>Hair color</th>\n",
       "      <th>Eye color</th>\n",
       "      <th>Skin color</th>\n",
       "      <th>Hero</th>\n",
       "      <th>Publisher</th>\n",
       "      <th>Height</th>\n",
       "      <th>Weight</th>\n",
       "      <th>...</th>\n",
       "      <th>Weather Control</th>\n",
       "      <th>Omnipresent</th>\n",
       "      <th>Omniscient</th>\n",
       "      <th>Hair Manipulation</th>\n",
       "      <th>Nova Force</th>\n",
       "      <th>Odin Force</th>\n",
       "      <th>Phoenix Force</th>\n",
       "      <th>Intuitive aptitude</th>\n",
       "      <th>Melting</th>\n",
       "      <th>Changing Armor</th>\n",
       "    </tr>\n",
       "  </thead>\n",
       "  <tbody>\n",
       "    <tr>\n",
       "      <th>0</th>\n",
       "      <td>Male</td>\n",
       "      <td>Human</td>\n",
       "      <td>good</td>\n",
       "      <td>No Hair</td>\n",
       "      <td>yellow</td>\n",
       "      <td>Unknown</td>\n",
       "      <td>A-Bomb</td>\n",
       "      <td>Marvel Comics</td>\n",
       "      <td>203.0</td>\n",
       "      <td>441</td>\n",
       "      <td>...</td>\n",
       "      <td>False</td>\n",
       "      <td>False</td>\n",
       "      <td>False</td>\n",
       "      <td>False</td>\n",
       "      <td>False</td>\n",
       "      <td>False</td>\n",
       "      <td>False</td>\n",
       "      <td>False</td>\n",
       "      <td>False</td>\n",
       "      <td>False</td>\n",
       "    </tr>\n",
       "    <tr>\n",
       "      <th>1</th>\n",
       "      <td>Male</td>\n",
       "      <td>Icthyo Sapien</td>\n",
       "      <td>good</td>\n",
       "      <td>No Hair</td>\n",
       "      <td>blue</td>\n",
       "      <td>blue</td>\n",
       "      <td>Abe Sapien</td>\n",
       "      <td>Dark Horse Comics</td>\n",
       "      <td>191.0</td>\n",
       "      <td>65</td>\n",
       "      <td>...</td>\n",
       "      <td>False</td>\n",
       "      <td>False</td>\n",
       "      <td>False</td>\n",
       "      <td>False</td>\n",
       "      <td>False</td>\n",
       "      <td>False</td>\n",
       "      <td>False</td>\n",
       "      <td>False</td>\n",
       "      <td>False</td>\n",
       "      <td>False</td>\n",
       "    </tr>\n",
       "    <tr>\n",
       "      <th>2</th>\n",
       "      <td>Male</td>\n",
       "      <td>Ungaran</td>\n",
       "      <td>good</td>\n",
       "      <td>No Hair</td>\n",
       "      <td>blue</td>\n",
       "      <td>red</td>\n",
       "      <td>Abin Sur</td>\n",
       "      <td>DC Comics</td>\n",
       "      <td>185.0</td>\n",
       "      <td>90</td>\n",
       "      <td>...</td>\n",
       "      <td>False</td>\n",
       "      <td>False</td>\n",
       "      <td>False</td>\n",
       "      <td>False</td>\n",
       "      <td>False</td>\n",
       "      <td>False</td>\n",
       "      <td>False</td>\n",
       "      <td>False</td>\n",
       "      <td>False</td>\n",
       "      <td>False</td>\n",
       "    </tr>\n",
       "    <tr>\n",
       "      <th>3</th>\n",
       "      <td>Male</td>\n",
       "      <td>Human / Radiation</td>\n",
       "      <td>bad</td>\n",
       "      <td>No Hair</td>\n",
       "      <td>green</td>\n",
       "      <td>Unknown</td>\n",
       "      <td>Abomination</td>\n",
       "      <td>Marvel Comics</td>\n",
       "      <td>203.0</td>\n",
       "      <td>441</td>\n",
       "      <td>...</td>\n",
       "      <td>False</td>\n",
       "      <td>False</td>\n",
       "      <td>False</td>\n",
       "      <td>False</td>\n",
       "      <td>False</td>\n",
       "      <td>False</td>\n",
       "      <td>False</td>\n",
       "      <td>False</td>\n",
       "      <td>False</td>\n",
       "      <td>False</td>\n",
       "    </tr>\n",
       "    <tr>\n",
       "      <th>4</th>\n",
       "      <td>Male</td>\n",
       "      <td>Human</td>\n",
       "      <td>bad</td>\n",
       "      <td>No Hair</td>\n",
       "      <td>blue</td>\n",
       "      <td>Unknown</td>\n",
       "      <td>Absorbing Man</td>\n",
       "      <td>Marvel Comics</td>\n",
       "      <td>193.0</td>\n",
       "      <td>122</td>\n",
       "      <td>...</td>\n",
       "      <td>False</td>\n",
       "      <td>False</td>\n",
       "      <td>False</td>\n",
       "      <td>False</td>\n",
       "      <td>False</td>\n",
       "      <td>False</td>\n",
       "      <td>False</td>\n",
       "      <td>False</td>\n",
       "      <td>False</td>\n",
       "      <td>False</td>\n",
       "    </tr>\n",
       "  </tbody>\n",
       "</table>\n",
       "<p>5 rows × 178 columns</p>\n",
       "</div>"
      ],
      "text/plain": [
       "  Gender               Race Alignment Hair color Eye color Skin color  \\\n",
       "0   Male              Human      good    No Hair    yellow    Unknown   \n",
       "1   Male      Icthyo Sapien      good    No Hair      blue       blue   \n",
       "2   Male            Ungaran      good    No Hair      blue        red   \n",
       "3   Male  Human / Radiation       bad    No Hair     green    Unknown   \n",
       "4   Male              Human       bad    No Hair      blue    Unknown   \n",
       "\n",
       "            Hero          Publisher  Height  Weight  ... Weather Control  \\\n",
       "0         A-Bomb      Marvel Comics   203.0     441  ...           False   \n",
       "1     Abe Sapien  Dark Horse Comics   191.0      65  ...           False   \n",
       "2       Abin Sur          DC Comics   185.0      90  ...           False   \n",
       "3    Abomination      Marvel Comics   203.0     441  ...           False   \n",
       "4  Absorbing Man      Marvel Comics   193.0     122  ...           False   \n",
       "\n",
       "   Omnipresent  Omniscient  Hair Manipulation  Nova Force  Odin Force  \\\n",
       "0        False       False              False       False       False   \n",
       "1        False       False              False       False       False   \n",
       "2        False       False              False       False       False   \n",
       "3        False       False              False       False       False   \n",
       "4        False       False              False       False       False   \n",
       "\n",
       "   Phoenix Force  Intuitive aptitude  Melting  Changing Armor  \n",
       "0          False               False    False           False  \n",
       "1          False               False    False           False  \n",
       "2          False               False    False           False  \n",
       "3          False               False    False           False  \n",
       "4          False               False    False           False  \n",
       "\n",
       "[5 rows x 178 columns]"
      ]
     },
     "execution_count": 12,
     "metadata": {},
     "output_type": "execute_result"
    }
   ],
   "source": [
    "url = 'https://docs.google.com/spreadsheets/d/1EvADR_JB1Y7tQDGvu-5aBoCEPPS-Dqyca3YY_Jjakdw/gviz/tq?tqx=out:csv&sheet=Cleaned_Super_Hero'\n",
    "df = pd.read_csv(url)\n",
    "df.head()\n",
    "\n"
   ]
  },
  {
   "cell_type": "code",
   "execution_count": 13,
   "id": "2d273ec7",
   "metadata": {
    "ExecuteTime": {
     "end_time": "2022-12-15T00:08:20.376979Z",
     "start_time": "2022-12-15T00:08:20.361021Z"
    }
   },
   "outputs": [
    {
     "data": {
      "text/plain": [
       "True     274\n",
       "False    189\n",
       "Name: Super Strength, dtype: int64"
      ]
     },
     "execution_count": 13,
     "metadata": {},
     "output_type": "execute_result"
    }
   ],
   "source": [
    "# see how many with and without strength\n",
    "df['Super Strength'].value_counts()\n",
    "\n"
   ]
  },
  {
   "cell_type": "code",
   "execution_count": 14,
   "id": "79c43e96",
   "metadata": {
    "ExecuteTime": {
     "end_time": "2022-12-15T00:08:26.992330Z",
     "start_time": "2022-12-15T00:08:26.984353Z"
    }
   },
   "outputs": [],
   "source": [
    "# Filtering out those with and without super strength\n",
    "strength_df = df.loc[df['Super Strength']== True].copy()\n",
    "no_strength_df = df.loc[df['Super Strength']== False].copy()\n",
    "\n"
   ]
  },
  {
   "cell_type": "code",
   "execution_count": 15,
   "id": "65172660",
   "metadata": {
    "ExecuteTime": {
     "end_time": "2022-12-15T00:08:38.337876Z",
     "start_time": "2022-12-15T00:08:38.320893Z"
    }
   },
   "outputs": [],
   "source": [
    "strength_weight = strength_df['Weight']\n",
    "no_strength_weight = no_strength_df['Weight']\n",
    "\n"
   ]
  },
  {
   "cell_type": "code",
   "execution_count": 16,
   "id": "e7244464",
   "metadata": {
    "ExecuteTime": {
     "end_time": "2022-12-15T00:09:11.702468Z",
     "start_time": "2022-12-15T00:09:11.680975Z"
    }
   },
   "outputs": [
    {
     "data": {
      "text/plain": [
       "6"
      ]
     },
     "execution_count": 16,
     "metadata": {},
     "output_type": "execute_result"
    }
   ],
   "source": [
    "# Check for outliers in weight for strength group\n",
    "zscores= stats.zscore(strength_weight)\n",
    "outliers = abs(zscores)>3\n",
    "np.sum(outliers)\n",
    "\n"
   ]
  },
  {
   "cell_type": "code",
   "execution_count": 17,
   "id": "90118a3d",
   "metadata": {
    "ExecuteTime": {
     "end_time": "2022-12-15T00:09:16.962263Z",
     "start_time": "2022-12-15T00:09:16.945280Z"
    }
   },
   "outputs": [],
   "source": [
    "# remove outliers from strength group\n",
    "strength_weight = strength_weight[(np.abs(stats.zscore(strength_weight)) < 3)]\n",
    "\n"
   ]
  },
  {
   "cell_type": "code",
   "execution_count": 18,
   "id": "05ec9f82",
   "metadata": {
    "ExecuteTime": {
     "end_time": "2022-12-15T00:09:30.165245Z",
     "start_time": "2022-12-15T00:09:30.145289Z"
    }
   },
   "outputs": [
    {
     "data": {
      "text/plain": [
       "1"
      ]
     },
     "execution_count": 18,
     "metadata": {},
     "output_type": "execute_result"
    }
   ],
   "source": [
    "# check for outliers in weight for no strength group\n",
    "zscores= stats.zscore(no_strength_weight)\n",
    "outliers = abs(zscores)>3\n",
    "np.sum(outliers)\n"
   ]
  },
  {
   "cell_type": "code",
   "execution_count": 19,
   "id": "52f529ae",
   "metadata": {
    "ExecuteTime": {
     "end_time": "2022-12-15T00:09:34.839018Z",
     "start_time": "2022-12-15T00:09:34.833034Z"
    }
   },
   "outputs": [],
   "source": [
    "# remove outlier for no strength group\n",
    "no_strength_weight = no_strength_weight[(np.abs(stats.zscore(no_strength_weight)) < 3)]\n",
    "\n"
   ]
  },
  {
   "cell_type": "code",
   "execution_count": 20,
   "id": "131c93a1",
   "metadata": {
    "ExecuteTime": {
     "end_time": "2022-12-15T00:10:00.089189Z",
     "start_time": "2022-12-15T00:10:00.080247Z"
    }
   },
   "outputs": [
    {
     "data": {
      "text/plain": [
       "NormaltestResult(statistic=105.002416481251, pvalue=1.5813025374989877e-23)"
      ]
     },
     "execution_count": 20,
     "metadata": {},
     "output_type": "execute_result"
    }
   ],
   "source": [
    "# test the strength group for normality\n",
    "result_strength_weight = stats.normaltest(strength_weight)\n",
    "result_strength_weight\n"
   ]
  },
  {
   "cell_type": "code",
   "execution_count": 22,
   "id": "9096d6b3",
   "metadata": {
    "ExecuteTime": {
     "end_time": "2022-12-15T00:11:36.934612Z",
     "start_time": "2022-12-15T00:11:36.912998Z"
    }
   },
   "outputs": [
    {
     "data": {
      "text/plain": [
       "NormaltestResult(statistic=10.034466263303866, pvalue=0.006622825869229763)"
      ]
     },
     "execution_count": 22,
     "metadata": {},
     "output_type": "execute_result"
    }
   ],
   "source": [
    "result_no_strength_weight = stats.normaltest(no_strength_weight)\n",
    "result_no_strength_weight\n",
    "\n"
   ]
  },
  {
   "cell_type": "code",
   "execution_count": 23,
   "id": "9041c493",
   "metadata": {
    "ExecuteTime": {
     "end_time": "2022-12-15T00:12:02.274591Z",
     "start_time": "2022-12-15T00:12:02.136737Z"
    }
   },
   "outputs": [
    {
     "data": {
      "text/plain": [
       "<AxesSubplot: >"
      ]
     },
     "execution_count": 23,
     "metadata": {},
     "output_type": "execute_result"
    },
    {
     "data": {
      "image/png": "[encoded data removed]",
      "text/plain": [
       "<Figure size 640x480 with 1 Axes>"
      ]
     },
     "metadata": {},
     "output_type": "display_data"
    }
   ],
   "source": [
    "no_strength_weight.hist()"
   ]
  },
  {
   "cell_type": "code",
   "execution_count": 24,
   "id": "8d48fc88",
   "metadata": {
    "ExecuteTime": {
     "end_time": "2022-12-15T00:13:07.037697Z",
     "start_time": "2022-12-15T00:13:07.016723Z"
    }
   },
   "outputs": [
    {
     "data": {
      "text/plain": [
       "LeveneResult(statistic=54.1012395290633, pvalue=8.971388915444231e-13)"
      ]
     },
     "execution_count": 24,
     "metadata": {},
     "output_type": "execute_result"
    }
   ],
   "source": [
    "# Test for equal variance\n",
    "result = stats.levene(strength_weight, no_strength_weight)\n",
    "result\n"
   ]
  },
  {
   "cell_type": "code",
   "execution_count": 25,
   "id": "b59638ff",
   "metadata": {
    "ExecuteTime": {
     "end_time": "2022-12-15T00:13:36.539801Z",
     "start_time": "2022-12-15T00:13:36.520825Z"
    }
   },
   "outputs": [
    {
     "data": {
      "text/plain": [
       "Ttest_indResult(statistic=9.12425300025232, pvalue=1.0881200502443154e-17)"
      ]
     },
     "execution_count": 25,
     "metadata": {},
     "output_type": "execute_result"
    }
   ],
   "source": [
    "# Independent t-test with equal_var set to False\n",
    "result = stats.ttest_ind(strength_weight, no_strength_weight, equal_var = False)\n",
    "result\n",
    "\n"
   ]
  },
  {
   "cell_type": "code",
   "execution_count": null,
   "id": "2af7433f",
   "metadata": {},
   "outputs": [],
   "source": []
  }
 ],
 "metadata": {
  "kernelspec": {
   "display_name": "Python dojo-env",
   "language": "python",
   "name": "dojo-env"
  },
  "language_info": {
   "codemirror_mode": {
    "name": "ipython",
    "version": 3
   },
   "file_extension": ".py",
   "mimetype": "text/x-python",
   "name": "python",
   "nbconvert_exporter": "python",
   "pygments_lexer": "ipython3",
   "version": "3.9.15"
  },
  "toc": {
   "base_numbering": 1,
   "nav_menu": {},
   "number_sections": false,
   "sideBar": true,
   "skip_h1_title": false,
   "title_cell": "Table of Contents",
   "title_sidebar": "Contents",
   "toc_cell": false,
   "toc_position": {
    "height": "calc(100% - 180px)",
    "left": "10px",
    "top": "150px",
    "width": "164.994px"
   },
   "toc_section_display": true,
   "toc_window_display": true
  }
 },
 "nbformat": 4,
 "nbformat_minor": 5
}
