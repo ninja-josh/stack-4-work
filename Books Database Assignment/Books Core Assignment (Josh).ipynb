{
 "cells": [
  {
   "cell_type": "markdown",
   "id": "24eeddff",
   "metadata": {},
   "source": [
    "# Books Database\n",
    "By Josh Johnson\n",
    "Began 9/26/1980\n",
    "\n",
    "## ERD\n",
    "![database ERD](books_erd.png)"
   ]
  },
  {
   "cell_type": "code",
   "execution_count": 1,
   "id": "8256da0c",
   "metadata": {
    "ExecuteTime": {
     "end_time": "2022-09-26T20:31:43.350557Z",
     "start_time": "2022-09-26T20:31:41.961251Z"
    }
   },
   "outputs": [],
   "source": [
    "import pandas as pd"
   ]
  },
  {
   "cell_type": "code",
   "execution_count": 2,
   "id": "f3a8c63f",
   "metadata": {
    "ExecuteTime": {
     "end_time": "2022-09-26T20:31:56.365286Z",
     "start_time": "2022-09-26T20:31:56.311781Z"
    }
   },
   "outputs": [
    {
     "data": {
      "text/html": [
       "<div>\n",
       "<style scoped>\n",
       "    .dataframe tbody tr th:only-of-type {\n",
       "        vertical-align: middle;\n",
       "    }\n",
       "\n",
       "    .dataframe tbody tr th {\n",
       "        vertical-align: top;\n",
       "    }\n",
       "\n",
       "    .dataframe thead th {\n",
       "        text-align: right;\n",
       "    }\n",
       "</style>\n",
       "<table border=\"1\" class=\"dataframe\">\n",
       "  <thead>\n",
       "    <tr style=\"text-align: right;\">\n",
       "      <th></th>\n",
       "      <th>First Name</th>\n",
       "      <th>Last Name</th>\n",
       "      <th>Email</th>\n",
       "      <th>Book Title</th>\n",
       "      <th>Book Author</th>\n",
       "    </tr>\n",
       "  </thead>\n",
       "  <tbody>\n",
       "    <tr>\n",
       "      <th>0</th>\n",
       "      <td>John</td>\n",
       "      <td>Doe</td>\n",
       "      <td>JD@books.com</td>\n",
       "      <td>The Shining</td>\n",
       "      <td>Stephen King</td>\n",
       "    </tr>\n",
       "    <tr>\n",
       "      <th>1</th>\n",
       "      <td>John</td>\n",
       "      <td>Doe</td>\n",
       "      <td>JD@books.com</td>\n",
       "      <td>It</td>\n",
       "      <td>Stephen King</td>\n",
       "    </tr>\n",
       "    <tr>\n",
       "      <th>2</th>\n",
       "      <td>John</td>\n",
       "      <td>Doe</td>\n",
       "      <td>JD@books.com</td>\n",
       "      <td>The Great Gatsby</td>\n",
       "      <td>F. Scott Fitzgerald</td>\n",
       "    </tr>\n",
       "    <tr>\n",
       "      <th>3</th>\n",
       "      <td>Robin</td>\n",
       "      <td>Smith</td>\n",
       "      <td>Robin@books.com</td>\n",
       "      <td>The Call of the Wild</td>\n",
       "      <td>Jack London</td>\n",
       "    </tr>\n",
       "    <tr>\n",
       "      <th>4</th>\n",
       "      <td>Robin</td>\n",
       "      <td>Smith</td>\n",
       "      <td>Robin@books.com</td>\n",
       "      <td>Pride and Prejudice</td>\n",
       "      <td>Jane Austen</td>\n",
       "    </tr>\n",
       "  </tbody>\n",
       "</table>\n",
       "</div>"
      ],
      "text/plain": [
       "  First Name Last Name            Email            Book Title  \\\n",
       "0       John       Doe     JD@books.com           The Shining   \n",
       "1       John       Doe     JD@books.com                    It   \n",
       "2       John       Doe     JD@books.com      The Great Gatsby   \n",
       "3      Robin     Smith  Robin@books.com  The Call of the Wild   \n",
       "4     Robin      Smith  Robin@books.com   Pride and Prejudice   \n",
       "\n",
       "           Book Author  \n",
       "0         Stephen King  \n",
       "1         Stephen King  \n",
       "2  F. Scott Fitzgerald  \n",
       "3          Jack London  \n",
       "4          Jane Austen  "
      ]
     },
     "execution_count": 2,
     "metadata": {},
     "output_type": "execute_result"
    }
   ],
   "source": [
    "df = pd.read_csv('data.csv')\n",
    "df.head()"
   ]
  },
  {
   "cell_type": "code",
   "execution_count": null,
   "id": "9d1b0733",
   "metadata": {},
   "outputs": [],
   "source": []
  }
 ],
 "metadata": {
  "kernelspec": {
   "display_name": "Python (dojo-env)",
   "language": "python",
   "name": "dojo-env"
  },
  "language_info": {
   "codemirror_mode": {
    "name": "ipython",
    "version": 3
   },
   "file_extension": ".py",
   "mimetype": "text/x-python",
   "name": "python",
   "nbconvert_exporter": "python",
   "pygments_lexer": "ipython3",
   "version": "3.8.13"
  },
  "toc": {
   "base_numbering": 1,
   "nav_menu": {},
   "number_sections": true,
   "sideBar": true,
   "skip_h1_title": false,
   "title_cell": "Table of Contents",
   "title_sidebar": "Contents",
   "toc_cell": false,
   "toc_position": {},
   "toc_section_display": true,
   "toc_window_display": false
  }
 },
 "nbformat": 4,
 "nbformat_minor": 5
}
